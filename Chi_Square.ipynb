{
  "nbformat": 4,
  "nbformat_minor": 0,
  "metadata": {
    "colab": {
      "name": "Chi-Square.ipynb",
      "provenance": [],
      "collapsed_sections": [],
      "authorship_tag": "ABX9TyMclSkeyszKv55MnQXuvzTO",
      "include_colab_link": true
    },
    "kernelspec": {
      "name": "python3",
      "display_name": "Python 3"
    }
  },
  "cells": [
    {
      "cell_type": "markdown",
      "metadata": {
        "id": "view-in-github",
        "colab_type": "text"
      },
      "source": [
        "<a href=\"https://colab.research.google.com/github/Owaiskhan9654/Statistical-Inference-Multivariate-Techniques-Python-Implementation/blob/master/Chi_Square.ipynb\" target=\"_parent\"><img src=\"https://colab.research.google.com/assets/colab-badge.svg\" alt=\"Open In Colab\"/></a>"
      ]
    },
    {
      "cell_type": "code",
      "metadata": {
        "id": "XsFkN8JRWN6C",
        "colab_type": "code",
        "colab": {}
      },
      "source": [
        ""
      ],
      "execution_count": 0,
      "outputs": []
    },
    {
      "cell_type": "markdown",
      "metadata": {
        "id": "E9h4XxYQ7T4V",
        "colab_type": "text"
      },
      "source": [
        "### Firstly importing the necessary libraries"
      ]
    },
    {
      "cell_type": "code",
      "metadata": {
        "id": "cZoeSHcM-lon",
        "colab_type": "code",
        "colab": {}
      },
      "source": [
        "import numpy as np\n",
        "import math\n",
        "from scipy import stats"
      ],
      "execution_count": 0,
      "outputs": []
    },
    {
      "cell_type": "markdown",
      "metadata": {
        "id": "IBYic0fu7mwS",
        "colab_type": "text"
      },
      "source": [
        "Now doing same procedure as we did in Zscore calculation"
      ]
    },
    {
      "cell_type": "code",
      "metadata": {
        "id": "-MxNcQQVvawE",
        "colab_type": "code",
        "colab": {}
      },
      "source": [
        "mu,sigma=50,10\n",
        "input1=np.random.normal(mu,sigma,100)"
      ],
      "execution_count": 0,
      "outputs": []
    },
    {
      "cell_type": "code",
      "metadata": {
        "id": "rzXQymsR-lk_",
        "colab_type": "code",
        "colab": {}
      },
      "source": [
        "def z_square(input):\n",
        "  z_score_square_sum=0\n",
        "  mean=np.mean(input)\n",
        "  standard_deviaton=np.std(input)\n",
        "\n",
        "  for i in input:\n",
        "    z_score= (i-mean)/standard_deviaton\n",
        "    z_score_square=z_score**2\n",
        "    z_score_square_sum=z_score_square_sum + z_score_square\n",
        "    \n",
        "  return z_score_square_sum"
      ],
      "execution_count": 0,
      "outputs": []
    },
    {
      "cell_type": "code",
      "metadata": {
        "id": "Vh8Qf2bOvn5r",
        "colab_type": "code",
        "colab": {}
      },
      "source": [
        "y=z_square(input1)"
      ],
      "execution_count": 0,
      "outputs": []
    },
    {
      "cell_type": "code",
      "metadata": {
        "id": "Sj8RHuwQvnsX",
        "colab_type": "code",
        "outputId": "34b0de0b-5846-47c5-86b9-4e28d3f248dd",
        "colab": {
          "base_uri": "https://localhost:8080/",
          "height": 68
        }
      },
      "source": [
        "print('Enter Degree of fredom \\n')\n",
        "dof=int(input('It should be one value smaller than no of values taken '))"
      ],
      "execution_count": 0,
      "outputs": [
        {
          "output_type": "stream",
          "text": [
            "Enter Degree of fredom \n",
            "\n",
            "It should be one value smaller than no of values taken 99\n"
          ],
          "name": "stdout"
        }
      ]
    },
    {
      "cell_type": "code",
      "metadata": {
        "id": "Vk2BXJEKvnQN",
        "colab_type": "code",
        "colab": {}
      },
      "source": [
        "def chisqr(y=y,dof=dof):\n",
        "  f=1/((2**(dof/2))*math.gamma(dof/2))*(y**(dof/2-1))*(math.exp(-y/2))\n",
        "  return f"
      ],
      "execution_count": 0,
      "outputs": []
    },
    {
      "cell_type": "code",
      "metadata": {
        "id": "4IPECqtj3rM3",
        "colab_type": "code",
        "outputId": "97d0a2ec-5f3e-44a0-95ca-5c7fbe8e740e",
        "colab": {
          "base_uri": "https://localhost:8080/",
          "height": 34
        }
      },
      "source": [
        "chisqr(y,dof)"
      ],
      "execution_count": 0,
      "outputs": [
        {
          "output_type": "execute_result",
          "data": {
            "text/plain": [
              "0.027950666362221478"
            ]
          },
          "metadata": {
            "tags": []
          },
          "execution_count": 89
        }
      ]
    },
    {
      "cell_type": "code",
      "metadata": {
        "id": "owZteiAs-tCt",
        "colab_type": "code",
        "colab": {}
      },
      "source": [
        ""
      ],
      "execution_count": 0,
      "outputs": []
    },
    {
      "cell_type": "markdown",
      "metadata": {
        "id": "Wc0ObYnY66ay",
        "colab_type": "text"
      },
      "source": [
        "# **Now second part of the Question**"
      ]
    },
    {
      "cell_type": "code",
      "metadata": {
        "id": "NBmvJj9VMztE",
        "colab_type": "code",
        "outputId": "5ec483a2-f250-438e-d19a-6064255f5f48",
        "colab": {
          "base_uri": "https://localhost:8080/",
          "height": 187
        }
      },
      "source": [
        "\n",
        "P_lst = [0.995, 0.990, 0.975, 0.950, 0.900, 0.100, 0.050, 0.025, 0.010, 0.005]\n",
        "\n",
        "#global p, dof\n",
        "\n",
        "print( 'df\\P|' , P_lst[0], ' | ', P_lst[1], ' |  ', P_lst[2], ' |  ', \\\n",
        "                      P_lst[3], ' |  ', P_lst[4], ' |  ', P_lst[5], ' |  ', \\\n",
        "                      P_lst[6], ' |  ', P_lst[7], ' |  ', P_lst[8], ' |  ', \\\n",
        "                      P_lst[9] )\n",
        "for i in range(1,10):\n",
        "    dof = i \n",
        "    r=[]\n",
        "    for p in P_lst:\n",
        "        x = stats.chi2.isf(p,dof)\n",
        "\n",
        "        r.append(x)\n",
        "    for j in range(10):\n",
        "        r[j] = round(r[j],2)\n",
        "    print( dof, '  | ', r[0], ' | ', r[1], ' | ', r[2], ' | ', r[3], ' | ', \\\n",
        "          r[4], ' | ', r[5], ' | ', r[6], ' | ', r[7], ' | ', \\\n",
        "          r[8], ' | ', r[9] )"
      ],
      "execution_count": 109,
      "outputs": [
        {
          "output_type": "stream",
          "text": [
            "df\\P| 0.995  |  0.99  |   0.975  |   0.95  |   0.9  |   0.1  |   0.05  |   0.025  |   0.01  |   0.005\n",
            "1   |  0.0  |  0.0  |  0.0  |  0.0  |  0.02  |  2.71  |  3.84  |  5.02  |  6.63  |  7.88\n",
            "2   |  0.01  |  0.02  |  0.05  |  0.1  |  0.21  |  4.61  |  5.99  |  7.38  |  9.21  |  10.6\n",
            "3   |  0.07  |  0.11  |  0.22  |  0.35  |  0.58  |  6.25  |  7.81  |  9.35  |  11.34  |  12.84\n",
            "4   |  0.21  |  0.3  |  0.48  |  0.71  |  1.06  |  7.78  |  9.49  |  11.14  |  13.28  |  14.86\n",
            "5   |  0.41  |  0.55  |  0.83  |  1.15  |  1.61  |  9.24  |  11.07  |  12.83  |  15.09  |  16.75\n",
            "6   |  0.68  |  0.87  |  1.24  |  1.64  |  2.2  |  10.64  |  12.59  |  14.45  |  16.81  |  18.55\n",
            "7   |  0.99  |  1.24  |  1.69  |  2.17  |  2.83  |  12.02  |  14.07  |  16.01  |  18.48  |  20.28\n",
            "8   |  1.34  |  1.65  |  2.18  |  2.73  |  3.49  |  13.36  |  15.51  |  17.53  |  20.09  |  21.95\n",
            "9   |  1.73  |  2.09  |  2.7  |  3.33  |  4.17  |  14.68  |  16.92  |  19.02  |  21.67  |  23.59\n"
          ],
          "name": "stdout"
        }
      ]
    },
    {
      "cell_type": "code",
      "metadata": {
        "id": "K0iBzvzhZiZk",
        "colab_type": "code",
        "colab": {}
      },
      "source": [
        "import numpy as np\n",
        "def chisqr():\n",
        "  p_value=np.float(input('Enter alpha value  '))\n",
        "  dof=int(input('Enter degree of freedom  '))\n",
        "  x = stats.chi2.isf(p_value,dof)\n",
        "  return x\n"
      ],
      "execution_count": 0,
      "outputs": []
    },
    {
      "cell_type": "code",
      "metadata": {
        "id": "JoffhbgxbEkg",
        "colab_type": "code",
        "colab": {
          "base_uri": "https://localhost:8080/",
          "height": 68
        },
        "outputId": "9a740095-d4d7-475a-fab0-0cee474de4c5"
      },
      "source": [
        "chisqr()"
      ],
      "execution_count": 130,
      "outputs": [
        {
          "output_type": "stream",
          "text": [
            "Enter alpha value  0.995\n",
            "Enter degree of freedom  9\n"
          ],
          "name": "stdout"
        },
        {
          "output_type": "execute_result",
          "data": {
            "text/plain": [
              "1.7349329049966606"
            ]
          },
          "metadata": {
            "tags": []
          },
          "execution_count": 130
        }
      ]
    },
    {
      "cell_type": "code",
      "metadata": {
        "id": "p5PR_jVTbK89",
        "colab_type": "code",
        "colab": {}
      },
      "source": [
        ""
      ],
      "execution_count": 0,
      "outputs": []
    }
  ]
}