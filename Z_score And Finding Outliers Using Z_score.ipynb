{
  "nbformat": 4,
  "nbformat_minor": 0,
  "metadata": {
    "colab": {
      "name": "Outliers_Detection_Using_Z_score[1].ipynb",
      "provenance": [],
      "collapsed_sections": [],
      "include_colab_link": true
    },
    "kernelspec": {
      "name": "python3",
      "display_name": "Python 3"
    }
  },
  "cells": [
    {
      "cell_type": "markdown",
      "metadata": {
        "id": "view-in-github",
        "colab_type": "text"
      },
      "source": [
        "<a href=\"https://colab.research.google.com/github/Owaiskhan9654/Statistical-Inference-Multivariate-Techniques-Python-Implementation/blob/master/Outliers_Detection_Using_Z_score%5B1%5D.ipynb\" target=\"_parent\"><img src=\"https://colab.research.google.com/assets/colab-badge.svg\" alt=\"Open In Colab\"/></a>"
      ]
    },
    {
      "cell_type": "markdown",
      "metadata": {
        "id": "lVeneONu8GyZ",
        "colab_type": "text"
      },
      "source": [
        "# **Outlier Detection using zscore**"
      ]
    },
    {
      "cell_type": "markdown",
      "metadata": {
        "id": "I2_gPpxe8o50",
        "colab_type": "text"
      },
      "source": [
        "##Outlier is a data point in a data set that is too far from all other observation"
      ]
    },
    {
      "cell_type": "markdown",
      "metadata": {
        "id": "w7BeRup89gDs",
        "colab_type": "text"
      },
      "source": [
        "Those data point which falls ouside 3 standard deviations can be classified as outliers"
      ]
    },
    {
      "cell_type": "code",
      "metadata": {
        "id": "o2h5IqaT8lWh",
        "colab_type": "code",
        "colab": {}
      },
      "source": [
        "import numpy as np\n",
        "import pandas as pd\n",
        "import matplotlib.pyplot as plt"
      ],
      "execution_count": 0,
      "outputs": []
    },
    {
      "cell_type": "markdown",
      "metadata": {
        "id": "tFnkuMmtEIdg",
        "colab_type": "text"
      },
      "source": [
        "#Let us consider our dataset of Normal Distribution having Mean around 50 and standard deviation of 10 . we will take 100 such points randomly"
      ]
    },
    {
      "cell_type": "code",
      "metadata": {
        "id": "8o6TUMxo9aH3",
        "colab_type": "code",
        "colab": {}
      },
      "source": [
        "mu,sigma=50,10\n",
        "input=np.random.normal(mu,sigma,100)"
      ],
      "execution_count": 0,
      "outputs": []
    },
    {
      "cell_type": "markdown",
      "metadata": {
        "id": "DxFGakPSEUrC",
        "colab_type": "text"
      },
      "source": [
        "Let us take some Outliers in our dataset which we will be finding again using function defined"
      ]
    },
    {
      "cell_type": "code",
      "metadata": {
        "id": "rdZ769cdA8tr",
        "colab_type": "code",
        "colab": {}
      },
      "source": [
        "input[99]=350\n",
        "input[3]=-200\n",
        "input[44]=500"
      ],
      "execution_count": 0,
      "outputs": []
    },
    {
      "cell_type": "markdown",
      "metadata": {
        "id": "p_HNPXys-Lga",
        "colab_type": "text"
      },
      "source": [
        "\n",
        "**Formula for Zscore**\n",
        "\n",
        "z=(observed value - mean) / Standard Deviation\n",
        "\n",
        "z= ( X - μ ) / σ"
      ]
    },
    {
      "cell_type": "code",
      "metadata": {
        "id": "BCmQ_cvS-KRP",
        "colab_type": "code",
        "colab": {}
      },
      "source": [
        "outlier_list=[]\n",
        "\n",
        "z_score_list=[]\n",
        "def outliers(input):\n",
        "  threshold=3 #Selecting threshold as 3 stadard deviation\n",
        "  mean=np.mean(input)\n",
        "  standard_deviaton=np.std(input)\n",
        "\n",
        "  for i in input:\n",
        "    z_score= (i-mean)/standard_deviaton\n",
        "    z_score_list.append(z_score)\n",
        "    if np.abs(z_score)>threshold:\n",
        "      outlier_list.append(i)\n",
        "  return outlier_list       "
      ],
      "execution_count": 0,
      "outputs": []
    },
    {
      "cell_type": "code",
      "metadata": {
        "id": "qUk3ByY9-FFS",
        "colab_type": "code",
        "colab": {}
      },
      "source": [
        "p=outliers(input)"
      ],
      "execution_count": 0,
      "outputs": []
    },
    {
      "cell_type": "code",
      "metadata": {
        "id": "OrFnS-RCBPfJ",
        "colab_type": "code",
        "outputId": "36e56246-ffb9-430a-dc50-82e9871e1a81",
        "colab": {
          "base_uri": "https://localhost:8080/",
          "height": 34
        }
      },
      "source": [
        "print('outliers present are ',p)"
      ],
      "execution_count": 15,
      "outputs": [
        {
          "output_type": "stream",
          "text": [
            "outliers present are  [-200.0, 500.0, 350.0]\n"
          ],
          "name": "stdout"
        }
      ]
    },
    {
      "cell_type": "code",
      "metadata": {
        "id": "ysvKefrYCXE2",
        "colab_type": "code",
        "colab": {
          "base_uri": "https://localhost:8080/",
          "height": 54
        },
        "outputId": "3860f431-8a92-45ec-c5c6-8b3de3e7488c"
      },
      "source": [
        "print(z_score_list)"
      ],
      "execution_count": 16,
      "outputs": [
        {
          "output_type": "stream",
          "text": [
            "[-0.05454789608936766, -0.2575159112116105, -0.04545013761290073, -4.28573679738746, -0.1598319838758672, -0.09357767499359158, -0.21945599720978903, 0.12936227943830608, 0.023511953467435946, -0.17358344070482018, -0.24042551324700184, 0.0727819971424762, -0.1801063111448622, 0.07541675480947685, 0.11326537363714444, -0.18043907604493703, -0.38596780600792446, -0.1276299949607487, -0.26023134366532596, -0.18343328839339423, -0.09784382900541179, 0.17803993014246186, -0.2589400213141727, -0.07920270628482198, -0.0917724021855039, 0.07512697502880092, -0.24581693743079774, 0.226115972967347, -0.2794879261098242, -0.14328784876090286, -0.010767244295557343, -0.05512059501576491, -0.07058069426961486, -0.023264461639926223, 0.1569482344263122, 0.1829946334781895, -0.31223272066087815, 0.15972435117708478, 0.07159640282483265, 0.06391309429616514, 0.014750442072728215, 0.0851398233277182, 0.04345955864727289, 0.17111104575076905, 7.402621152824237, -0.05815206068119149, -0.23293456029028778, -0.09358220564969962, -0.26391946947628325, -0.028715532311611863, -0.3699403466817529, 0.20520837880969722, -0.05082987289166946, -0.2737858085328413, 0.015517002874065546, -0.28101597195870465, -0.18832598541467266, -0.23944750902442347, -0.1485872178389685, -0.07010184511892374, -0.09420617764526484, -0.10119634904664747, -0.029717822050560932, -0.085900371501241, -0.07864854610061499, -0.0043248227896526235, -0.010876987855926576, 0.08343694960787537, -0.19483382965196658, -0.3149610342682038, -0.27605321624980966, 0.11512093871603934, 0.05616878265886482, 0.008843334321199946, -0.3335242605185984, -0.3283703074186107, 0.0017281152445817244, -0.10464912696699671, -0.04990999648162113, -0.17978163565616403, 0.009045837506572249, -0.10732026285143208, -0.07272642533736742, -0.3052540055165011, 0.01754338120382677, 0.08504073373917273, -0.13364338760216546, -0.023867785757104746, 0.09327418825353899, -0.10780249230297072, -0.1623335417214718, 0.09005383876225626, 0.058598338504723936, -0.25666070459414275, 0.1543469858331798, -0.26457587927689846, -0.2585602705615783, -0.1660502562391564, -0.27644136077388065, 4.897973020636016]\n"
          ],
          "name": "stdout"
        }
      ]
    },
    {
      "cell_type": "markdown",
      "metadata": {
        "id": "wBItp92icpl_",
        "colab_type": "text"
      },
      "source": [
        "Now we will find outaliers using Alpha Value . For that we have find standardize variable"
      ]
    },
    {
      "cell_type": "code",
      "metadata": {
        "id": "JnvT8p7Rb37G",
        "colab_type": "code",
        "colab": {}
      },
      "source": [
        "from scipy.special import ndtr as ndtr"
      ],
      "execution_count": 0,
      "outputs": []
    },
    {
      "cell_type": "code",
      "metadata": {
        "id": "U_0yfmHdcQ8V",
        "colab_type": "code",
        "colab": {}
      },
      "source": [
        "def outliers_alpha(alpha):\n",
        "  p_values_list=(ndtr(np.abs(z_score_list)))\n",
        "  outlier_list1=(p_values_list>alpha).astype(int)\n",
        "  print('Those values which are outlier are marked as 1')\n",
        "  for i in zip(input,outlier_list1):\n",
        "   print(i)"
      ],
      "execution_count": 0,
      "outputs": []
    },
    {
      "cell_type": "code",
      "metadata": {
        "id": "pQ16B7kjcgx5",
        "colab_type": "code",
        "colab": {
          "base_uri": "https://localhost:8080/",
          "height": 1000
        },
        "outputId": "4d78e0e6-ada1-420b-985c-0aecc4f1fd5c"
      },
      "source": [
        "outliers_alpha(0.95)"
      ],
      "execution_count": 20,
      "outputs": [
        {
          "output_type": "stream",
          "text": [
            "Those values which are outlier are marked as 1\n",
            "(53.400199029241804, 0)\n",
            "(41.24471823452532, 0)\n",
            "(53.945051519271125, 0)\n",
            "(-200.0, 1)\n",
            "(47.094876950256804, 0)\n",
            "(51.06275818859216, 0)\n",
            "(43.52407517369166, 0)\n",
            "(64.41433150343079, 0)\n",
            "(58.07509818295679, 0)\n",
            "(46.27132073977193, 0)\n",
            "(42.26823912823729, 0)\n",
            "(61.02581467533659, 0)\n",
            "(45.88067482291355, 0)\n",
            "(61.18360675996958, 0)\n",
            "(63.450309516013036, 0)\n",
            "(45.86074598166445, 0)\n",
            "(33.551907427358756, 0)\n",
            "(49.02341065333138, 0)\n",
            "(41.08209464567755, 0)\n",
            "(45.681426640757195, 0)\n",
            "(50.8072639762319, 0)\n",
            "(67.3295703794178, 0)\n",
            "(41.159430200394276, 0)\n",
            "(51.923655684972864, 0)\n",
            "(51.17087354329333, 0)\n",
            "(61.16625223957097, 0)\n",
            "(41.94535400230831, 0)\n",
            "(70.20877977057185, 0)\n",
            "(39.9288438838026, 0)\n",
            "(48.085682898346825, 0)\n",
            "(56.022163242368265, 0)\n",
            "(53.36590086262287, 0)\n",
            "(52.44001636081405, 0)\n",
            "(55.27372174371449, 0)\n",
            "(66.06641715770822, 0)\n",
            "(67.62630088252038, 0)\n",
            "(37.96780228297426, 0)\n",
            "(66.23267504729532, 0)\n",
            "(60.95481103000971, 0)\n",
            "(60.49466804046601, 0)\n",
            "(57.55038307734315, 0)\n",
            "(61.76590822539019, 0)\n",
            "(59.269733364850154, 0)\n",
            "(66.91460883436201, 0)\n",
            "(500.0, 1)\n",
            "(53.18435047078531, 0)\n",
            "(42.716862201900504, 0)\n",
            "(51.06248685370585, 0)\n",
            "(40.86121776299932, 0)\n",
            "(54.94726447003809, 0)\n",
            "(34.51177035901349, 0)\n",
            "(68.95665214300465, 0)\n",
            "(53.622866426105844, 0)\n",
            "(40.27033601818883, 0)\n",
            "(57.59629137029771, 0)\n",
            "(39.83733127794534, 0)\n",
            "(45.38840961223328, 0)\n",
            "(42.32681048263292, 0)\n",
            "(47.76831082859611, 0)\n",
            "(52.46869399088934, 0)\n",
            "(51.02511801209814, 0)\n",
            "(50.606486070656, 0)\n",
            "(54.88723868880749, 0)\n",
            "(51.52254154460652, 0)\n",
            "(51.95684359131499, 0)\n",
            "(56.40799118101825, 0)\n",
            "(56.01559084848833, 0)\n",
            "(61.663925414034864, 0)\n",
            "(44.998663594399936, 0)\n",
            "(37.80440725920248, 0)\n",
            "(40.13454402682112, 0)\n",
            "(63.56143680701142, 0)\n",
            "(60.03087165698752, 0)\n",
            "(57.196614357760524, 0)\n",
            "(36.69268066504552, 0)\n",
            "(37.00134396791144, 0)\n",
            "(56.77049347963131, 0)\n",
            "(50.399703855862455, 0)\n",
            "(53.677956584173955, 0)\n",
            "(45.90011920022102, 0)\n",
            "(57.208742000528176, 0)\n",
            "(50.23973312883053, 0)\n",
            "(52.31151141992972, 0)\n",
            "(38.385748124629075, 0)\n",
            "(57.71764843660891, 0)\n",
            "(61.75997388351965, 0)\n",
            "(48.66327667498111, 0)\n",
            "(55.23758947570696, 0)\n",
            "(62.25306437446855, 0)\n",
            "(50.210853057094624, 0)\n",
            "(46.94506202335413, 0)\n",
            "(62.060201984943845, 0)\n",
            "(60.1763744811948, 0)\n",
            "(41.295935405900245, 0)\n",
            "(65.910631886334, 0)\n",
            "(40.82190626497813, 0)\n",
            "(41.18217296100688, 0)\n",
            "(46.722473001571814, 0)\n",
            "(40.11129857455083, 0)\n",
            "(350.0, 1)\n"
          ],
          "name": "stdout"
        }
      ]
    }
  ]
}
