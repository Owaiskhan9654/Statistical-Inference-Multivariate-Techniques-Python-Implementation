{
  "nbformat": 4,
  "nbformat_minor": 0,
  "metadata": {
    "colab": {
      "name": "F-Score",
      "provenance": [],
      "collapsed_sections": [],
      "authorship_tag": "ABX9TyMnBarLnRYbw2lLAZhAG1Ai",
      "include_colab_link": true
    },
    "kernelspec": {
      "name": "python3",
      "display_name": "Python 3"
    }
  },
  "cells": [
    {
      "cell_type": "markdown",
      "metadata": {
        "id": "view-in-github",
        "colab_type": "text"
      },
      "source": [
        "<a href=\"https://colab.research.google.com/github/Owaiskhan9654/Statistical-Inference-Multivariate-Techniques-Python-Implementation/blob/master/F_Score.ipynb\" target=\"_parent\"><img src=\"https://colab.research.google.com/assets/colab-badge.svg\" alt=\"Open In Colab\"/></a>"
      ]
    },
    {
      "cell_type": "markdown",
      "metadata": {
        "id": "k521yCisg54B",
        "colab_type": "text"
      },
      "source": [
        "### Firstly importing the necessary libraries"
      ]
    },
    {
      "cell_type": "code",
      "metadata": {
        "id": "ZGwdakSngqtY",
        "colab_type": "code",
        "colab": {}
      },
      "source": [
        "import numpy as np\n",
        "import math\n",
        "from scipy import stats\n",
        "import numpy as np"
      ],
      "execution_count": 0,
      "outputs": []
    },
    {
      "cell_type": "code",
      "metadata": {
        "id": "BV0LJXhyg-zU",
        "colab_type": "code",
        "colab": {}
      },
      "source": [
        "mu1,sigma1=20,5\n",
        "mu2,sigma2=10,2\n",
        "input1=np.random.normal(mu1,sigma1,20)\n",
        "input2=np.random.normal(mu2,sigma2,10)"
      ],
      "execution_count": 0,
      "outputs": []
    },
    {
      "cell_type": "code",
      "metadata": {
        "id": "dnUuJ7zThDhN",
        "colab_type": "code",
        "colab": {}
      },
      "source": [
        "var1=np.var(input1)\n",
        "var2=np.var(input2)"
      ],
      "execution_count": 0,
      "outputs": []
    },
    {
      "cell_type": "code",
      "metadata": {
        "id": "7I64qP8ehgCn",
        "colab_type": "code",
        "colab": {}
      },
      "source": [
        "fstatistics=var1/var2\n"
      ],
      "execution_count": 0,
      "outputs": []
    },
    {
      "cell_type": "code",
      "metadata": {
        "id": "ScE79ua1j8aW",
        "colab_type": "code",
        "colab": {}
      },
      "source": [
        "w=fstatistics\n",
        "dof1=len(input1)-1\n",
        "dof2=len(input2)-1"
      ],
      "execution_count": 0,
      "outputs": []
    },
    {
      "cell_type": "code",
      "metadata": {
        "id": "sKxKzPDxk0FL",
        "colab_type": "code",
        "colab": {}
      },
      "source": [
        "def fstas(w=w,dof1=dof1,dof2=dof2):\n",
        "  f=(math.gamma(dof1+dof2)/2)*((dof1/dof2)**(dof1/2))*(w**((dof1/2)-1))/((math.gamma(dof1/2)*math.gamma(dof2/2))*(((dof1/dof2)*(w+1))**(dof1+dof2)/2))\n",
        "  return f\n"
      ],
      "execution_count": 0,
      "outputs": []
    },
    {
      "cell_type": "code",
      "metadata": {
        "id": "4ziWeWJll2Sg",
        "colab_type": "code",
        "colab": {
          "base_uri": "https://localhost:8080/",
          "height": 34
        },
        "outputId": "63d70f66-1c6a-4373-dbfb-fb0050245114"
      },
      "source": [
        "fstas(fstatistics,dof1,dof2)"
      ],
      "execution_count": 80,
      "outputs": [
        {
          "output_type": "execute_result",
          "data": {
            "text/plain": [
              "5.601030512436074"
            ]
          },
          "metadata": {
            "tags": []
          },
          "execution_count": 80
        }
      ]
    },
    {
      "cell_type": "code",
      "metadata": {
        "id": "7rRFxoLBtIyC",
        "colab_type": "code",
        "colab": {}
      },
      "source": [
        ""
      ],
      "execution_count": 0,
      "outputs": []
    },
    {
      "cell_type": "code",
      "metadata": {
        "id": "2xSQrMNjm4kr",
        "colab_type": "code",
        "colab": {}
      },
      "source": [
        ""
      ],
      "execution_count": 0,
      "outputs": []
    },
    {
      "cell_type": "code",
      "metadata": {
        "id": "lVm7qY5CtG1S",
        "colab_type": "code",
        "colab": {}
      },
      "source": [
        ""
      ],
      "execution_count": 0,
      "outputs": []
    }
  ]
}