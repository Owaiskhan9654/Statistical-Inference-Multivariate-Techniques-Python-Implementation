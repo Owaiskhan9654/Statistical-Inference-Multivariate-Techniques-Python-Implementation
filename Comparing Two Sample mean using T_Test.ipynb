{
  "nbformat": 4,
  "nbformat_minor": 0,
  "metadata": {
    "colab": {
      "name": "T_Test.ipynb",
      "provenance": [],
      "authorship_tag": "ABX9TyMX2J3P5aQepkPQFGdBFSlJ",
      "include_colab_link": true
    },
    "kernelspec": {
      "name": "python3",
      "display_name": "Python 3"
    }
  },
  "cells": [
    {
      "cell_type": "markdown",
      "metadata": {
        "id": "view-in-github",
        "colab_type": "text"
      },
      "source": [
        "<a href=\"https://colab.research.google.com/github/Owaiskhan9654/Statistical-Inference-Multivariate-Techniques-Python-Implementation/blob/master/Comparing%20Two%20Sample%20mean%20using%20T_Test.ipynb\" target=\"_parent\"><img src=\"https://colab.research.google.com/assets/colab-badge.svg\" alt=\"Open In Colab\"/></a>"
      ]
    },
    {
      "cell_type": "markdown",
      "metadata": {
        "id": "XAQVwE9xCS_u",
        "colab_type": "text"
      },
      "source": [
        "#**T Test**\n",
        "A t-test is a test which is used to determine if there is a significant difference between the means of two groups \n",
        "#T-test has two types :\n",
        "  \n",
        "  1. one sampled t-test\n",
        "  2. two-sampled t-test."
      ]
    },
    {
      "cell_type": "markdown",
      "metadata": {
        "id": "yZcknSYzH4Pk",
        "colab_type": "text"
      },
      "source": [
        "##  One-sample T-test with Python\n",
        "\n",
        "The test tells us whether mean of the sample and mean of the population are different or not.\n",
        "\n",
        "## I am importing  **ttest_1samp** library from **scipy.stats**"
      ]
    },
    {
      "cell_type": "code",
      "metadata": {
        "id": "tZoPq8kBCgBZ",
        "colab_type": "code",
        "colab": {}
      },
      "source": [
        "from scipy.stats import ttest_1samp"
      ],
      "execution_count": 0,
      "outputs": []
    },
    {
      "cell_type": "markdown",
      "metadata": {
        "id": "j8O72G-_JgoI",
        "colab_type": "text"
      },
      "source": [
        "Also Importing all other necessary Libraries"
      ]
    },
    {
      "cell_type": "code",
      "metadata": {
        "id": "19k2pQ2qJfGR",
        "colab_type": "code",
        "colab": {}
      },
      "source": [
        "import numpy as np\n",
        "import pandas as pd\n",
        "import matplotlib.pyplot as plt"
      ],
      "execution_count": 0,
      "outputs": []
    },
    {
      "cell_type": "markdown",
      "metadata": {
        "id": "c6tfABwdJyKN",
        "colab_type": "text"
      },
      "source": [
        "#Let us consider our dataset of Normal Distribution having Mean around 50 and standard deviation of 10 . we will take 100 such points randomly"
      ]
    },
    {
      "cell_type": "code",
      "metadata": {
        "id": "cNQ2ngckJ3AO",
        "colab_type": "code",
        "colab": {}
      },
      "source": [
        "mu,sigma=50,10\n",
        "input=np.random.normal(mu,sigma,100)"
      ],
      "execution_count": 0,
      "outputs": []
    },
    {
      "cell_type": "code",
      "metadata": {
        "id": "bekAaRMdJ9wf",
        "colab_type": "code",
        "colab": {
          "base_uri": "https://localhost:8080/",
          "height": 34
        },
        "outputId": "90c48d86-501a-4bef-efba-c1db42cde9ac"
      },
      "source": [
        "input_mean=np.mean(input)\n",
        "print(input_mean)"
      ],
      "execution_count": 21,
      "outputs": [
        {
          "output_type": "stream",
          "text": [
            "50.26829045545717\n"
          ],
          "name": "stdout"
        }
      ]
    },
    {
      "cell_type": "markdown",
      "metadata": {
        "id": "XC7cJeBWKOC2",
        "colab_type": "text"
      },
      "source": [
        "So, Here I am getting Sample mean of Population around 50.\n",
        "\n",
        " Now I am going to select 20 values in a sample from our population and I will check weather there is a difference between the population mean and sample mean"
      ]
    },
    {
      "cell_type": "code",
      "metadata": {
        "id": "HvG22anxLKRe",
        "colab_type": "code",
        "colab": {}
      },
      "source": [
        "input_sample_size=20\n",
        "input_sample=np.random.choice(input,input_sample_size) "
      ],
      "execution_count": 0,
      "outputs": []
    },
    {
      "cell_type": "code",
      "metadata": {
        "id": "yw3x932ewo0o",
        "colab_type": "code",
        "colab": {}
      },
      "source": [
        "ttest,p_value=ttest_1samp(input_sample,input_mean)"
      ],
      "execution_count": 0,
      "outputs": []
    },
    {
      "cell_type": "code",
      "metadata": {
        "id": "hvd7DzR3xMnZ",
        "colab_type": "code",
        "outputId": "e3e4cfb5-76c3-440a-fcf5-6e900d7cf354",
        "colab": {
          "base_uri": "https://localhost:8080/",
          "height": 34
        }
      },
      "source": [
        "print(p_value)"
      ],
      "execution_count": 27,
      "outputs": [
        {
          "output_type": "stream",
          "text": [
            "0.1356446588727746\n"
          ],
          "name": "stdout"
        }
      ]
    },
    {
      "cell_type": "code",
      "metadata": {
        "id": "BO1BLVLQyTUR",
        "colab_type": "code",
        "outputId": "b3b1246f-6c23-4a13-ad53-ea8a46d1c733",
        "colab": {
          "base_uri": "https://localhost:8080/",
          "height": 34
        }
      },
      "source": [
        "if p_value<0.05:\n",
        "  print(\"we are rejecting null hypothesis :- That is mean of Population and sample is not same\")\n",
        "else:\n",
        "    print('we are accepting null hypothesis :- That is mean of Population and sample is  same')"
      ],
      "execution_count": 28,
      "outputs": [
        {
          "output_type": "stream",
          "text": [
            "we are accepting null hypothesis :- That is mean of Population and sample is  same\n"
          ],
          "name": "stdout"
        }
      ]
    },
    {
      "cell_type": "markdown",
      "metadata": {
        "id": "Q9JAs4isV5mF",
        "colab_type": "text"
      },
      "source": [
        "# Two-sample T-test\n",
        "The Two-sample t-test compares the means of two independent sample groups in order to determine whether there is statistical evidence that the associated population means are significantly different."
      ]
    },
    {
      "cell_type": "markdown",
      "metadata": {
        "id": "OizwmceUXK2j",
        "colab_type": "text"
      },
      "source": [
        "I am importing library scipy.stats"
      ]
    },
    {
      "cell_type": "code",
      "metadata": {
        "id": "twz-hdLLyxLx",
        "colab_type": "code",
        "colab": {}
      },
      "source": [
        "import scipy.stats as stats"
      ],
      "execution_count": 0,
      "outputs": []
    },
    {
      "cell_type": "markdown",
      "metadata": {
        "id": "9NidEVV1X6j5",
        "colab_type": "text"
      },
      "source": [
        " Now I am going to select 2 sample of 20 values from our population and I will check weather there is a difference between the two sample mean"
      ]
    },
    {
      "cell_type": "code",
      "metadata": {
        "id": "LAtJ0m_jYdYi",
        "colab_type": "code",
        "colab": {}
      },
      "source": [
        "input_sample_size=20\n",
        "input_sample1=np.random.choice(input,input_sample_size) \n",
        "input_sample2=np.random.choice(input,input_sample_size) "
      ],
      "execution_count": 0,
      "outputs": []
    },
    {
      "cell_type": "code",
      "metadata": {
        "id": "-QuQ6RgBYr2h",
        "colab_type": "code",
        "colab": {}
      },
      "source": [
        "statistic,p_value=stats.ttest_ind(a=input_sample1,b=input)"
      ],
      "execution_count": 0,
      "outputs": []
    },
    {
      "cell_type": "code",
      "metadata": {
        "id": "U4hKQFsoZPtJ",
        "colab_type": "code",
        "colab": {
          "base_uri": "https://localhost:8080/",
          "height": 34
        },
        "outputId": "c1cdc7a4-5e2d-44f5-ec57-6b1d36aa807e"
      },
      "source": [
        "print(p_value)"
      ],
      "execution_count": 41,
      "outputs": [
        {
          "output_type": "stream",
          "text": [
            "0.7723588851890382\n"
          ],
          "name": "stdout"
        }
      ]
    },
    {
      "cell_type": "code",
      "metadata": {
        "id": "IROB1ltoZWnc",
        "colab_type": "code",
        "colab": {
          "base_uri": "https://localhost:8080/",
          "height": 34
        },
        "outputId": "5f46fc9c-0418-4726-d362-8ca293eefd59"
      },
      "source": [
        "if p_value<0.05:\n",
        "  print(\"we are rejecting null hypothesis :- That is mean of both the samples are not same\")\n",
        "else:\n",
        "    print('we are accepting null hypothesis :- That is mean of both the sample are same')"
      ],
      "execution_count": 42,
      "outputs": [
        {
          "output_type": "stream",
          "text": [
            "we are accepting null hypothesis :- That is mean of both the sample are same\n"
          ],
          "name": "stdout"
        }
      ]
    },
    {
      "cell_type": "code",
      "metadata": {
        "id": "kTHDU8hDZkjQ",
        "colab_type": "code",
        "colab": {}
      },
      "source": [
        ""
      ],
      "execution_count": 0,
      "outputs": []
    }
  ]
}