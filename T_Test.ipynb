{
  "nbformat": 4,
  "nbformat_minor": 0,
  "metadata": {
    "colab": {
      "name": "T_Test.ipynb",
      "provenance": [],
      "collapsed_sections": [],
      "authorship_tag": "ABX9TyNB4E+zalm/UO5jGLwe9Q3v",
      "include_colab_link": true
    },
    "kernelspec": {
      "name": "python3",
      "display_name": "Python 3"
    }
  },
  "cells": [
    {
      "cell_type": "markdown",
      "metadata": {
        "id": "view-in-github",
        "colab_type": "text"
      },
      "source": [
        "<a href=\"https://colab.research.google.com/github/Owaiskhan9654/Statistical-Inference-Multivariate-Techniques-Python-Implementation/blob/master/T_Test.ipynb\" target=\"_parent\"><img src=\"https://colab.research.google.com/assets/colab-badge.svg\" alt=\"Open In Colab\"/></a>"
      ]
    },
    {
      "cell_type": "markdown",
      "metadata": {
        "id": "XAQVwE9xCS_u",
        "colab_type": "text"
      },
      "source": [
        "#**T Test**\n",
        "A t-test is a test which is used to determine if there is a significant difference between the means of two groups \n",
        "#T-test has two types :\n",
        "  \n",
        "  1. one sampled t-test\n",
        "  2. two-sampled t-test."
      ]
    },
    {
      "cell_type": "markdown",
      "metadata": {
        "id": "yZcknSYzH4Pk",
        "colab_type": "text"
      },
      "source": [
        "##  One-sample T-test with Python\n",
        "\n",
        "The test tells us whether mean of the sample and mean of the population are different or not.\n",
        "\n",
        "## I am importing  **ttest_1samp** library from **scipy.stats**"
      ]
    },
    {
      "cell_type": "code",
      "metadata": {
        "id": "tZoPq8kBCgBZ",
        "colab_type": "code",
        "colab": {}
      },
      "source": [
        "from scipy.stats import ttest_1samp"
      ],
      "execution_count": 0,
      "outputs": []
    },
    {
      "cell_type": "markdown",
      "metadata": {
        "id": "j8O72G-_JgoI",
        "colab_type": "text"
      },
      "source": [
        "Also Importing all other necessary Libraries"
      ]
    },
    {
      "cell_type": "code",
      "metadata": {
        "id": "19k2pQ2qJfGR",
        "colab_type": "code",
        "colab": {}
      },
      "source": [
        "import numpy as np\n",
        "import pandas as pd\n",
        "import matplotlib.pyplot as plt"
      ],
      "execution_count": 0,
      "outputs": []
    },
    {
      "cell_type": "markdown",
      "metadata": {
        "id": "c6tfABwdJyKN",
        "colab_type": "text"
      },
      "source": [
        "#Let us consider our dataset of Normal Distribution having Mean around 50 and standard deviation of 10 . we will take 100 such points randomly"
      ]
    },
    {
      "cell_type": "code",
      "metadata": {
        "id": "cNQ2ngckJ3AO",
        "colab_type": "code",
        "colab": {}
      },
      "source": [
        "mu,sigma=50,10\n",
        "input=np.random.normal(mu,sigma,1000000)"
      ],
      "execution_count": 0,
      "outputs": []
    },
    {
      "cell_type": "code",
      "metadata": {
        "id": "bekAaRMdJ9wf",
        "colab_type": "code",
        "outputId": "90c48d86-501a-4bef-efba-c1db42cde9ac",
        "colab": {
          "base_uri": "https://localhost:8080/",
          "height": 34
        }
      },
      "source": [
        "input_mean=np.mean(input)\n",
        "print(input_mean)"
      ],
      "execution_count": 0,
      "outputs": [
        {
          "output_type": "stream",
          "text": [
            "50.26829045545717\n"
          ],
          "name": "stdout"
        }
      ]
    },
    {
      "cell_type": "markdown",
      "metadata": {
        "id": "XC7cJeBWKOC2",
        "colab_type": "text"
      },
      "source": [
        "So, Here I am getting Sample mean of Population around 50.\n",
        "\n",
        " Now I am going to select 20 values in a sample from our population and I will check weather there is a difference between the population mean and sample mean"
      ]
    },
    {
      "cell_type": "code",
      "metadata": {
        "id": "HvG22anxLKRe",
        "colab_type": "code",
        "colab": {}
      },
      "source": [
        "input_sample_size=50\n",
        "input_sample=np.random.choice(input,input_sample_size) "
      ],
      "execution_count": 0,
      "outputs": []
    },
    {
      "cell_type": "code",
      "metadata": {
        "id": "yw3x932ewo0o",
        "colab_type": "code",
        "colab": {}
      },
      "source": [
        "ttest,p_value=ttest_1samp(input_sample,input_mean)"
      ],
      "execution_count": 0,
      "outputs": []
    },
    {
      "cell_type": "code",
      "metadata": {
        "id": "hvd7DzR3xMnZ",
        "colab_type": "code",
        "outputId": "e3e4cfb5-76c3-440a-fcf5-6e900d7cf354",
        "colab": {
          "base_uri": "https://localhost:8080/",
          "height": 34
        }
      },
      "source": [
        "print(p_value)"
      ],
      "execution_count": 0,
      "outputs": [
        {
          "output_type": "stream",
          "text": [
            "0.1356446588727746\n"
          ],
          "name": "stdout"
        }
      ]
    },
    {
      "cell_type": "code",
      "metadata": {
        "id": "LWjbhKlPZrnj",
        "colab_type": "code",
        "colab": {}
      },
      "source": [
        "\n",
        "  def t_dist(input=input):\n",
        "     input_sample_size=input('Enter Sample size which you want to select from population')\n",
        "     input_sample=np.random.choice(input,input_sample_size)\n",
        "     mean_population=np.mean(input)\n",
        "     mean_sample=np.mean(input_sample)\n",
        "     s=np.std(input_sample)\n",
        "\n",
        "    t_score= (mean_sample-mean_population)/(s/np.sqrt(n)\n",
        "    \n",
        "    return t_score"
      ],
      "execution_count": 0,
      "outputs": []
    }
  ]
}