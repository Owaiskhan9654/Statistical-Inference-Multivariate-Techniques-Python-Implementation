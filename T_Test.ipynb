{
  "nbformat": 4,
  "nbformat_minor": 0,
  "metadata": {
    "colab": {
      "name": "T_Test.ipynb",
      "provenance": [],
      "collapsed_sections": [],
      "authorship_tag": "ABX9TyNr8s6LgtR3MWkTm9iwWTOt",
      "include_colab_link": true
    },
    "kernelspec": {
      "name": "python3",
      "display_name": "Python 3"
    }
  },
  "cells": [
    {
      "cell_type": "markdown",
      "metadata": {
        "id": "view-in-github",
        "colab_type": "text"
      },
      "source": [
        "<a href=\"https://colab.research.google.com/github/Owaiskhan9654/Statistical-Inference-Multivariate-Techniques-Python-Implementation/blob/master/T_Test.ipynb\" target=\"_parent\"><img src=\"https://colab.research.google.com/assets/colab-badge.svg\" alt=\"Open In Colab\"/></a>"
      ]
    },
    {
      "cell_type": "markdown",
      "metadata": {
        "id": "XAQVwE9xCS_u",
        "colab_type": "text"
      },
      "source": [
        "#**T Test**"
      ]
    },
    {
      "cell_type": "code",
      "metadata": {
        "id": "tZoPq8kBCgBZ",
        "colab_type": "code",
        "colab": {}
      },
      "source": [
        "from scipy.stats import ttest_1samp"
      ],
      "execution_count": 0,
      "outputs": []
    },
    {
      "cell_type": "markdown",
      "metadata": {
        "id": "j8O72G-_JgoI",
        "colab_type": "text"
      },
      "source": [
        "Also Importing all other necessary Libraries"
      ]
    },
    {
      "cell_type": "code",
      "metadata": {
        "id": "19k2pQ2qJfGR",
        "colab_type": "code",
        "colab": {}
      },
      "source": [
        "import numpy as np\n",
        "import pandas as pd\n",
        "import matplotlib.pyplot as plt"
      ],
      "execution_count": 0,
      "outputs": []
    },
    {
      "cell_type": "markdown",
      "metadata": {
        "id": "c6tfABwdJyKN",
        "colab_type": "text"
      },
      "source": [
        "#Let us consider our dataset of Normal Distribution having Mean around 50 and standard deviation of 10 . we will take 100 such points randomly"
      ]
    },
    {
      "cell_type": "code",
      "metadata": {
        "id": "cNQ2ngckJ3AO",
        "colab_type": "code",
        "colab": {}
      },
      "source": [
        "mu,sigma=50,10\n",
        "input1=np.random.normal(mu,sigma,10000)"
      ],
      "execution_count": 0,
      "outputs": []
    },
    {
      "cell_type": "code",
      "metadata": {
        "id": "bekAaRMdJ9wf",
        "colab_type": "code",
        "outputId": "5a4dc76a-af82-4bc6-c0ab-1090aec616d4",
        "colab": {
          "base_uri": "https://localhost:8080/",
          "height": 34
        }
      },
      "source": [
        "input_mean=np.mean(input1)\n",
        "print(input_mean)"
      ],
      "execution_count": 0,
      "outputs": [
        {
          "output_type": "stream",
          "text": [
            "49.99050651108112\n"
          ],
          "name": "stdout"
        }
      ]
    },
    {
      "cell_type": "markdown",
      "metadata": {
        "id": "XC7cJeBWKOC2",
        "colab_type": "text"
      },
      "source": [
        "So, Here I am getting Sample mean of Population around 50.\n",
        "\n",
        " Now I am going to select 50 values in a sample from our population and I will check weather there is a difference between the population mean and sample mean"
      ]
    },
    {
      "cell_type": "code",
      "metadata": {
        "id": "HvG22anxLKRe",
        "colab_type": "code",
        "colab": {}
      },
      "source": [
        "input_sample_size=50\n",
        "input_sample=np.random.choice(input1,input_sample_size) \n"
      ],
      "execution_count": 0,
      "outputs": []
    },
    {
      "cell_type": "code",
      "metadata": {
        "id": "LWjbhKlPZrnj",
        "colab_type": "code",
        "colab": {}
      },
      "source": [
        "  def t_dist(input1=input1,input_sample_size=50):\n",
        "     \n",
        "     input_sample=np.random.choice(input1,input_sample_size)\n",
        "     mean_population=np.mean(input1)\n",
        "     mean_sample=np.mean(input_sample)\n",
        "     s=np.std(input_sample)\n",
        "\n",
        "     t_score= (mean_sample-mean_population)/(s/np.sqrt(input_sample_size-1))\n",
        "     return t_score"
      ],
      "execution_count": 0,
      "outputs": []
    },
    {
      "cell_type": "code",
      "metadata": {
        "id": "xVYYum_c5UrT",
        "colab_type": "code",
        "outputId": "aa454166-a81b-4a4b-a0f3-57da0c4def48",
        "colab": {
          "base_uri": "https://localhost:8080/",
          "height": 34
        }
      },
      "source": [
        "a=t_dist(input1)\n",
        "print(a)\n",
        "from scipy.special import ndtr as ndtr"
      ],
      "execution_count": 0,
      "outputs": [
        {
          "output_type": "stream",
          "text": [
            "0.05851205413969413\n"
          ],
          "name": "stdout"
        }
      ]
    },
    {
      "cell_type": "code",
      "metadata": {
        "id": "TDtWBvKL8Nku",
        "colab_type": "code",
        "outputId": "db1a1fd2-b0d2-4cdd-de93-0f973b4f73d5",
        "colab": {
          "base_uri": "https://localhost:8080/",
          "height": 34
        }
      },
      "source": [
        "p_value=(ndtr(a))\n",
        "p_value"
      ],
      "execution_count": 0,
      "outputs": [
        {
          "output_type": "execute_result",
          "data": {
            "text/plain": [
              "0.22246072840759695"
            ]
          },
          "metadata": {
            "tags": []
          },
          "execution_count": 26
        }
      ]
    },
    {
      "cell_type": "code",
      "metadata": {
        "id": "mW5qvqxjoMZy",
        "colab_type": "code",
        "colab": {}
      },
      "source": [
        "ndtr?"
      ],
      "execution_count": 0,
      "outputs": []
    },
    {
      "cell_type": "code",
      "metadata": {
        "id": "rEI67pqIqCJe",
        "colab_type": "code",
        "colab": {}
      },
      "source": [
        ""
      ],
      "execution_count": 0,
      "outputs": []
    }
  ]
}