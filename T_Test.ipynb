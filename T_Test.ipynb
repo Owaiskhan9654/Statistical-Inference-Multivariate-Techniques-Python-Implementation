{
  "nbformat": 4,
  "nbformat_minor": 0,
  "metadata": {
    "colab": {
      "name": "T_Test.ipynb",
      "provenance": [],
      "collapsed_sections": [],
      "authorship_tag": "ABX9TyMiXP6qkMRz4ZmhGxECLP6K",
      "include_colab_link": true
    },
    "kernelspec": {
      "name": "python3",
      "display_name": "Python 3"
    }
  },
  "cells": [
    {
      "cell_type": "markdown",
      "metadata": {
        "id": "view-in-github",
        "colab_type": "text"
      },
      "source": [
        "<a href=\"https://colab.research.google.com/github/Owaiskhan9654/Statistical-Inference-Multivariate-Techniques-Python-Implementation/blob/master/T_Test.ipynb\" target=\"_parent\"><img src=\"https://colab.research.google.com/assets/colab-badge.svg\" alt=\"Open In Colab\"/></a>"
      ]
    },
    {
      "cell_type": "markdown",
      "metadata": {
        "id": "XAQVwE9xCS_u",
        "colab_type": "text"
      },
      "source": [
        "#**T Test**"
      ]
    },
    {
      "cell_type": "markdown",
      "metadata": {
        "id": "j8O72G-_JgoI",
        "colab_type": "text"
      },
      "source": [
        "Importing all necessary Libraries"
      ]
    },
    {
      "cell_type": "code",
      "metadata": {
        "id": "19k2pQ2qJfGR",
        "colab_type": "code",
        "colab": {}
      },
      "source": [
        "import numpy as np\n",
        "import pandas as pd\n",
        "import matplotlib.pyplot as plt\n",
        "from scipy import stats"
      ],
      "execution_count": 0,
      "outputs": []
    },
    {
      "cell_type": "markdown",
      "metadata": {
        "id": "c6tfABwdJyKN",
        "colab_type": "text"
      },
      "source": [
        "#Let us consider our dataset of Normal Distribution having Mean around 50 and standard deviation of 10 . we will take 10000 such points randomly"
      ]
    },
    {
      "cell_type": "code",
      "metadata": {
        "id": "cNQ2ngckJ3AO",
        "colab_type": "code",
        "colab": {}
      },
      "source": [
        "mu,sigma=50,10\n",
        "input1=np.random.normal(mu,sigma,10000)"
      ],
      "execution_count": 0,
      "outputs": []
    },
    {
      "cell_type": "code",
      "metadata": {
        "id": "bekAaRMdJ9wf",
        "colab_type": "code",
        "outputId": "4d377031-6d06-4c46-ce74-1eac6cb84d81",
        "colab": {
          "base_uri": "https://localhost:8080/",
          "height": 34
        }
      },
      "source": [
        "input_mean=np.mean(input1)\n",
        "print(input_mean)"
      ],
      "execution_count": 70,
      "outputs": [
        {
          "output_type": "stream",
          "text": [
            "50.00379783689952\n"
          ],
          "name": "stdout"
        }
      ]
    },
    {
      "cell_type": "code",
      "metadata": {
        "id": "HvG22anxLKRe",
        "colab_type": "code",
        "colab": {}
      },
      "source": [
        "input_sample_size=5000\n",
        "input_sample=np.random.choice(input1,input_sample_size) \n"
      ],
      "execution_count": 0,
      "outputs": []
    },
    {
      "cell_type": "code",
      "metadata": {
        "id": "LWjbhKlPZrnj",
        "colab_type": "code",
        "colab": {}
      },
      "source": [
        "  def t_dist(input1=input1,input_sample_size=50000):\n",
        "     \n",
        "     input_sample=np.random.choice(input1,input_sample_size)\n",
        "     mean_population=np.mean(input1)\n",
        "     mean_sample=np.mean(input_sample)\n",
        "     s=np.std(input_sample)\n",
        "     dof=input_sample_size-1\n",
        "\n",
        "\n",
        "     t_score= (mean_sample-mean_population)/(s/np.sqrt(input_sample_size-1))\n",
        "     return t_score,dof"
      ],
      "execution_count": 0,
      "outputs": []
    },
    {
      "cell_type": "code",
      "metadata": {
        "id": "xVYYum_c5UrT",
        "colab_type": "code",
        "outputId": "d930c047-30bd-47fc-9670-c6c77cbde64c",
        "colab": {
          "base_uri": "https://localhost:8080/",
          "height": 34
        }
      },
      "source": [
        "tscore,df=t_dist(input1)\n",
        "print(tscore)"
      ],
      "execution_count": 97,
      "outputs": [
        {
          "output_type": "stream",
          "text": [
            "0.32755460910014866\n"
          ],
          "name": "stdout"
        }
      ]
    },
    {
      "cell_type": "markdown",
      "metadata": {
        "id": "3htZ3IWkrg77",
        "colab_type": "text"
      },
      "source": [
        "Now Calculating P value from the t score value"
      ]
    },
    {
      "cell_type": "code",
      "metadata": {
        "id": "rEI67pqIqCJe",
        "colab_type": "code",
        "colab": {}
      },
      "source": [
        "p_value = 1 - stats.t.cdf(tscore,df=df)"
      ],
      "execution_count": 0,
      "outputs": []
    },
    {
      "cell_type": "code",
      "metadata": {
        "id": "rgXRg4R3cYhA",
        "colab_type": "code",
        "colab": {
          "base_uri": "https://localhost:8080/",
          "height": 34
        },
        "outputId": "64839f0b-98aa-496c-e0d8-fc2ee88e07e3"
      },
      "source": [
        "p_value"
      ],
      "execution_count": 85,
      "outputs": [
        {
          "output_type": "execute_result",
          "data": {
            "text/plain": [
              "0.21174594237861455"
            ]
          },
          "metadata": {
            "tags": []
          },
          "execution_count": 85
        }
      ]
    },
    {
      "cell_type": "markdown",
      "metadata": {
        "id": "SAbH7BxyuBNa",
        "colab_type": "text"
      },
      "source": [
        "Now starts Part B of the question "
      ]
    },
    {
      "cell_type": "code",
      "metadata": {
        "id": "kWol5YwBeuJX",
        "colab_type": "code",
        "colab": {
          "base_uri": "https://localhost:8080/",
          "height": 34
        },
        "outputId": "8e522b5f-e8a3-450b-99d3-8023d4577fe6"
      },
      "source": [
        "Alpha=float(input('Please enter Alpha value '))\n"
      ],
      "execution_count": 129,
      "outputs": [
        {
          "output_type": "stream",
          "text": [
            "Please enter Alpha value 0.995\n"
          ],
          "name": "stdout"
        }
      ]
    },
    {
      "cell_type": "code",
      "metadata": {
        "id": "6Yf1fNA4n9bW",
        "colab_type": "code",
        "colab": {
          "base_uri": "https://localhost:8080/",
          "height": 34
        },
        "outputId": "f2cf3f5f-346f-4461-f859-933b0f1e527b"
      },
      "source": [
        "dot=float(input('Please enter degrees of Freedom , It should not be negative or Decimal '))\n"
      ],
      "execution_count": 130,
      "outputs": [
        {
          "output_type": "stream",
          "text": [
            "Please enter degrees of Freedom , It should not be negative or Decimal 1\n"
          ],
          "name": "stdout"
        }
      ]
    },
    {
      "cell_type": "code",
      "metadata": {
        "id": "9Y3m1Trqu6Du",
        "colab_type": "code",
        "colab": {}
      },
      "source": [
        "To=stats.t.ppf(Alpha,df=dot)"
      ],
      "execution_count": 0,
      "outputs": []
    },
    {
      "cell_type": "code",
      "metadata": {
        "id": "Hb1k_erWvl_B",
        "colab_type": "code",
        "colab": {
          "base_uri": "https://localhost:8080/",
          "height": 34
        },
        "outputId": "f04b6582-0894-47c0-837b-fb244f78cfb4"
      },
      "source": [
        "print('corresponding \"To\" value is ',To)"
      ],
      "execution_count": 132,
      "outputs": [
        {
          "output_type": "stream",
          "text": [
            "corresponding \"To\" value is  63.65674116287399\n"
          ],
          "name": "stdout"
        }
      ]
    },
    {
      "cell_type": "code",
      "metadata": {
        "id": "hzWmMpO_xJ5W",
        "colab_type": "code",
        "colab": {}
      },
      "source": [
        ""
      ],
      "execution_count": 0,
      "outputs": []
    }
  ]
}